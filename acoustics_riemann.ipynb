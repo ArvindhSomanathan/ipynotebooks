{
 "metadata": {
  "name": ""
 },
 "nbformat": 3,
 "nbformat_minor": 0,
 "worksheets": [
  {
   "cells": [
    {
     "cell_type": "markdown",
     "metadata": {},
     "source": [
      "# Acoustics equations and their Riemann solver in 1D and 2D\n",
      "A brief intuitive derivation of the acoustics equations is presented. We derive the normal Riemann solver for one and two dimensional acoustics and the transverse Riemann solver for two dimensional acoustics in a cartesian grid. These solvers are further extended for general quadrilateral mapped grids. Along some of these examples, we will show how to use PyClaw to solve the acoustics equations."
     ]
    },
    {
     "cell_type": "markdown",
     "metadata": {},
     "source": [
      "## 1. Linear Acoustics equations\n",
      "The linear acoustic equations can be obtained by linearizing the conservation of mass and momentum for an element of fluid. The conservation of mass and momentum are given by\n",
      "\n",
      "$$\n",
      "\\frac{\\partial \\rho}{\\partial t} + \\nabla \\cdot \\left(\\rho \\bar{u}\\right) = 0 \\\\\n",
      "\\frac{d \\rho \\bar{u}}{dt} = -\\nabla P\n",
      "$$\n",
      "\n",
      "where $d/dt$ denotes the material derivative: $\\frac{d}{dt} = \\frac{\\partial}{\\partial t} + \\bar{u} \\cdot \\nabla $. In one dimension, these can be easily rewritten as,\n",
      "\n",
      "$$\n",
      "\\rho_t + (\\rho u)_x = 0, \\\\\n",
      "(\\rho u)_t + (\\rho u^2 + P(\\rho))_x =0,\n",
      "$$\n",
      "\n",
      "where we assumed the pressure is a function of the density. Linearizing the equation around $\\rho_0$ and $u_0 =0$, we obtain the simpler system\n",
      "\n",
      "$$\n",
      "\\rho_t + (\\rho u)_x = 0, \\\\\n",
      "(\\rho u)_t + P(\\rho_0)_x =0.\n",
      "$$"
     ]
    },
    {
     "cell_type": "markdown",
     "metadata": {},
     "source": [
      "## 2. The Riemann problem in 1D\n",
      "In one dimension we need to solve,\n",
      "\n",
      "$$\n",
      "\\bar{q}_t + A \\bar{q}_x = 0, \\\\\n",
      "$$\n",
      "with\n",
      "$$\n",
      "\\bar{q} = \\left[ \\begin{array}{c}\n",
      "p \\\\\n",
      "u\n",
      "\\end{array}\\right]\n",
      "\\hspace{20mm}\n",
      "\\mathbf{A} = \n",
      "\\left[ \\begin{array}{cc}\n",
      "0        & K_0 \\\\\n",
      "1/\\rho_0 & 0\n",
      "\\end{array} \\right].\n",
      "$$\n",
      "\n",
      "We will begin by obtaining the eigenvector and eigenvalues of $\\mathbf{A}$"
     ]
    },
    {
     "cell_type": "markdown",
     "metadata": {},
     "source": [
      "## 3. The normal Riemann problem in 2D"
     ]
    },
    {
     "cell_type": "markdown",
     "metadata": {},
     "source": [
      "## 4. The transverse Riemann problem in 2D"
     ]
    },
    {
     "cell_type": "markdown",
     "metadata": {},
     "source": [
      "## 5. The normal and transverse Riemann problem for quadrilateral mapped grids"
     ]
    },
    {
     "cell_type": "markdown",
     "metadata": {},
     "source": [
      "## 6. Non-linear acoustics?"
     ]
    },
    {
     "cell_type": "code",
     "collapsed": false,
     "input": [],
     "language": "python",
     "metadata": {},
     "outputs": []
    }
   ],
   "metadata": {}
  }
 ]
}