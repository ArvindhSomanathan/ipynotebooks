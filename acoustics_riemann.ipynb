{
 "metadata": {
  "name": "",
  "signature": "sha256:50f5e5788cb599487ef2d90fdae77676a89ba4718ba28930ce051b617dc034bf"
 },
 "nbformat": 3,
 "nbformat_minor": 0,
 "worksheets": [
  {
   "cells": [
    {
     "cell_type": "markdown",
     "metadata": {},
     "source": [
      "# Acoustics equations and their Riemann solver in 1D and 2D\n",
      "A brief intuitive derivation of the acoustics equations is presented. We derive the normal Riemann solver for one and two dimensional acoustics and the transverse Riemann solver for two dimensional acoustics in a cartesian grid. These solvers are further extended for general quadrilateral mapped grids. Along some of these examples, we will show how to use PyClaw to solve the acoustics equations."
     ]
    },
    {
     "cell_type": "markdown",
     "metadata": {},
     "source": [
      "## 1. Linear Acoustics equations\n",
      "The linear acoustic equations can be obtained by linearizing the conservation of mass and momentum for an element of fluid."
     ]
    },
    {
     "cell_type": "markdown",
     "metadata": {},
     "source": [
      "## 2. The Riemann problem in 1D"
     ]
    },
    {
     "cell_type": "markdown",
     "metadata": {},
     "source": [
      "## 3. The normal Riemann problem in 2D"
     ]
    },
    {
     "cell_type": "markdown",
     "metadata": {},
     "source": [
      "## 4. The transverse Riemann problem in 2D"
     ]
    },
    {
     "cell_type": "markdown",
     "metadata": {},
     "source": [
      "## 5. The normal and transverse Riemann problem for quadrilateral mapped grids"
     ]
    },
    {
     "cell_type": "markdown",
     "metadata": {},
     "source": [
      "## 6. Non-linear acoustics?"
     ]
    },
    {
     "cell_type": "code",
     "collapsed": false,
     "input": [],
     "language": "python",
     "metadata": {},
     "outputs": []
    }
   ],
   "metadata": {}
  }
 ]
}